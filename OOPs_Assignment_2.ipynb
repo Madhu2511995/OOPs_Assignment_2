{
 "cells": [
  {
   "cell_type": "markdown",
   "id": "f8a0f8a0-8c2b-45c9-998e-8464da421543",
   "metadata": {},
   "source": [
    "Q1. What is Abstraction in OOps? Explain with an example.\n",
    "\n",
    "Q2. Differentiate between Abstraction and Encapsulation. Explain with an example.\n",
    "\n",
    "Q3. What is abc module in python? Why is it used?\n",
    "\n",
    "Q4. How can we achieve data abstraction?\n",
    "\n",
    "Q5. Can we create an instance of an abstract class? Explain your answer."
   ]
  },
  {
   "cell_type": "markdown",
   "id": "05fd91ca-5df1-4767-8e2c-67f7d8bf01e7",
   "metadata": {},
   "source": [
    "Answers"
   ]
  },
  {
   "cell_type": "markdown",
   "id": "3696858b-baf2-4488-a92f-fca9d6d7550c",
   "metadata": {},
   "source": [
    "Q1. What is Abstraction in OOps? Explain with an example."
   ]
  },
  {
   "cell_type": "markdown",
   "id": "3fad5f43-a44b-4d54-8bc7-c01e8c2a9143",
   "metadata": {},
   "source": [
    "Abstraction ===> Abstraction is the way that create the structure of class and function and use later according the use."
   ]
  },
  {
   "cell_type": "code",
   "execution_count": 22,
   "id": "698dde23-70b8-4564-8ad4-f73c381cefff",
   "metadata": {},
   "outputs": [],
   "source": [
    "import abc\n",
    "class abst:\n",
    "    @abc.abstractmethod\n",
    "    def epmloyee(self,name,salary):\n",
    "        pass"
   ]
  },
  {
   "cell_type": "code",
   "execution_count": 23,
   "id": "246f7521-9419-46c0-b73f-5e62477a7ab6",
   "metadata": {},
   "outputs": [],
   "source": [
    "class use(abst):\n",
    "    def employee(self,name,salary):\n",
    "        self.name=name\n",
    "        self.salary=salary\n",
    "        return self.name,self.salary "
   ]
  },
  {
   "cell_type": "code",
   "execution_count": 24,
   "id": "24948bf2-204c-4e9a-bfd0-f85c6f26b371",
   "metadata": {},
   "outputs": [],
   "source": [
    "obj_use=use()"
   ]
  },
  {
   "cell_type": "code",
   "execution_count": 25,
   "id": "03d81ae8-4290-4703-ba07-df2a202fabce",
   "metadata": {},
   "outputs": [
    {
     "data": {
      "text/plain": [
       "('Madhu', 20000)"
      ]
     },
     "execution_count": 25,
     "metadata": {},
     "output_type": "execute_result"
    }
   ],
   "source": [
    "obj_use.employee(\"Madhu\",20000)"
   ]
  },
  {
   "cell_type": "markdown",
   "id": "b45eef44-8e18-4d7a-bee8-1bd39115e3f3",
   "metadata": {},
   "source": [
    "Q2. Differentiate between Abstraction and Encapsulation. Explain with an example."
   ]
  },
  {
   "cell_type": "markdown",
   "id": "9ef63a03-aaed-4bef-bffc-6b097cc84862",
   "metadata": {},
   "source": [
    "Encapsulation ===> Encapsulation is a property of oops according to abstraction hide the private information and show only that\n",
    "information that is useful for the user."
   ]
  },
  {
   "cell_type": "code",
   "execution_count": 9,
   "id": "69c310e9-8d17-4979-a369-306e04b7a75d",
   "metadata": {},
   "outputs": [],
   "source": [
    "class encp:\n",
    "    def __init__(self,ename,esal):\n",
    "        self.ename=ename\n",
    "        self.__esal=esal\n",
    "    def display(self):\n",
    "        return self.ename,self.__esal"
   ]
  },
  {
   "cell_type": "code",
   "execution_count": 10,
   "id": "873108a4-48dc-4223-b7bf-ef0948389c34",
   "metadata": {},
   "outputs": [],
   "source": [
    "obj_encp=encp(\"Madhu\",20000)"
   ]
  },
  {
   "cell_type": "code",
   "execution_count": 11,
   "id": "2c2d10e9-de4c-489b-b1fe-8d36295127a9",
   "metadata": {},
   "outputs": [
    {
     "data": {
      "text/plain": [
       "'Madhu'"
      ]
     },
     "execution_count": 11,
     "metadata": {},
     "output_type": "execute_result"
    }
   ],
   "source": [
    "obj_encp.ename"
   ]
  },
  {
   "cell_type": "code",
   "execution_count": 12,
   "id": "e122ed37-08b0-44cb-8efd-b8259dcd5c85",
   "metadata": {},
   "outputs": [
    {
     "ename": "AttributeError",
     "evalue": "'encp' object has no attribute 'esal'",
     "output_type": "error",
     "traceback": [
      "\u001b[0;31m---------------------------------------------------------------------------\u001b[0m",
      "\u001b[0;31mAttributeError\u001b[0m                            Traceback (most recent call last)",
      "Cell \u001b[0;32mIn[12], line 1\u001b[0m\n\u001b[0;32m----> 1\u001b[0m \u001b[43mobj_encp\u001b[49m\u001b[38;5;241;43m.\u001b[39;49m\u001b[43mesal\u001b[49m\n",
      "\u001b[0;31mAttributeError\u001b[0m: 'encp' object has no attribute 'esal'"
     ]
    }
   ],
   "source": [
    "obj_encp.esal"
   ]
  },
  {
   "cell_type": "markdown",
   "id": "d87bf5e1-e07e-4eb1-a0fe-a8b72be82f8b",
   "metadata": {},
   "source": [
    "In above Example we can saw that ename can access by the encp object but esal can not be accessed that means developer does not want\n",
    "that esal can be accessed by the user so it make esal as a private variable."
   ]
  },
  {
   "cell_type": "markdown",
   "id": "6096defc-456f-432c-8065-71093fa49d7a",
   "metadata": {},
   "source": [
    "Q3. What is abc module in python? Why is it used?"
   ]
  },
  {
   "cell_type": "markdown",
   "id": "77be6ce5-7068-4b4c-8492-0bd052b2caea",
   "metadata": {},
   "source": [
    "abs ===> abs stands for Abstract Base Class. The 'abc' module in the Python library provides the infrastructure for defining custom abstract base \n",
    "classes. abs module is use to extract method abstract method from abc library"
   ]
  },
  {
   "cell_type": "markdown",
   "id": "850748c3-452d-42b0-a6d2-d9f96a25a56a",
   "metadata": {},
   "source": [
    "Q4. How can we achieve data abstraction?"
   ]
  },
  {
   "cell_type": "markdown",
   "id": "0ac00c3c-1eac-4a81-9834-681de2c927fe",
   "metadata": {},
   "source": [
    "Data abstraction is the process of simplifying complex data structures by providing a simplified interface for interacting with them. \n",
    "It allows users to work with high-level concepts and hide the implementation details of the underlying data.\n"
   ]
  },
  {
   "cell_type": "markdown",
   "id": "86c42e4e-be58-4149-a5e7-b12e8edbf884",
   "metadata": {},
   "source": [
    "Q5. Can we create an instance of an abstract class? Explain your answer."
   ]
  },
  {
   "cell_type": "markdown",
   "id": "8aa40bb4-284d-4ddd-9e30-f94a0c794d72",
   "metadata": {},
   "source": [
    "No,We cannot create an instance of an abstract class.\n",
    "\n",
    "An abstract class is a class that is declared with the intention of being inherited by other classes. \n",
    "It serves as a blueprint for derived classes to implement and specialize the abstract methods defined in the abstract class."
   ]
  },
  {
   "cell_type": "code",
   "execution_count": null,
   "id": "ff377bbf-8905-433d-8d8b-9b99df1cbc38",
   "metadata": {},
   "outputs": [],
   "source": []
  },
  {
   "cell_type": "code",
   "execution_count": null,
   "id": "7167c213-7623-4404-9358-fb1241ced0e7",
   "metadata": {},
   "outputs": [],
   "source": []
  },
  {
   "cell_type": "code",
   "execution_count": null,
   "id": "18b4ef24-d24d-4712-8e74-ea1eb61dc7bc",
   "metadata": {},
   "outputs": [],
   "source": []
  },
  {
   "cell_type": "code",
   "execution_count": null,
   "id": "00466c40-47ad-4a10-8da2-fffb0bd976a9",
   "metadata": {},
   "outputs": [],
   "source": []
  },
  {
   "cell_type": "code",
   "execution_count": null,
   "id": "c553c7a7-71aa-41d0-9018-98edc1e24151",
   "metadata": {},
   "outputs": [],
   "source": []
  },
  {
   "cell_type": "code",
   "execution_count": null,
   "id": "0622d541-ef5c-413b-b243-5e87cf6cab74",
   "metadata": {},
   "outputs": [],
   "source": []
  },
  {
   "cell_type": "code",
   "execution_count": null,
   "id": "1e0572fa-d49f-46fb-a647-26006c0aa0ef",
   "metadata": {},
   "outputs": [],
   "source": []
  },
  {
   "cell_type": "code",
   "execution_count": null,
   "id": "f9526a18-6519-4e7a-b8eb-cbcfaa51d947",
   "metadata": {},
   "outputs": [],
   "source": []
  },
  {
   "cell_type": "code",
   "execution_count": null,
   "id": "347dd8ca-47fc-4546-ae7c-e3867738cece",
   "metadata": {},
   "outputs": [],
   "source": []
  },
  {
   "cell_type": "code",
   "execution_count": null,
   "id": "dc5521a9-39f1-41ed-b040-54b37220624f",
   "metadata": {},
   "outputs": [],
   "source": []
  },
  {
   "cell_type": "code",
   "execution_count": null,
   "id": "8dbffc0e-fbd9-4217-9b99-efb6ad58f36b",
   "metadata": {},
   "outputs": [],
   "source": []
  },
  {
   "cell_type": "code",
   "execution_count": null,
   "id": "5a88a26d-770b-42df-8807-00cae29202d8",
   "metadata": {},
   "outputs": [],
   "source": []
  },
  {
   "cell_type": "code",
   "execution_count": null,
   "id": "5b7644df-834e-4cce-a2a7-52f845a48214",
   "metadata": {},
   "outputs": [],
   "source": []
  },
  {
   "cell_type": "code",
   "execution_count": null,
   "id": "ff4a8fe7-8eca-47ce-9390-6ab02886adfc",
   "metadata": {},
   "outputs": [],
   "source": []
  },
  {
   "cell_type": "code",
   "execution_count": null,
   "id": "92ca4cea-a0a9-49ef-a669-a75b33aba373",
   "metadata": {},
   "outputs": [],
   "source": []
  },
  {
   "cell_type": "code",
   "execution_count": null,
   "id": "47273855-652b-4e24-bd2d-d8abe7b3ba00",
   "metadata": {},
   "outputs": [],
   "source": []
  },
  {
   "cell_type": "code",
   "execution_count": null,
   "id": "8dabfa96-8a1a-44ff-8f19-0be38f787143",
   "metadata": {},
   "outputs": [],
   "source": []
  },
  {
   "cell_type": "code",
   "execution_count": null,
   "id": "f393083d-fdcb-4f26-8579-1c62dbe426bc",
   "metadata": {},
   "outputs": [],
   "source": []
  },
  {
   "cell_type": "code",
   "execution_count": null,
   "id": "a5a6d732-9903-404f-8540-f1f85636d91d",
   "metadata": {},
   "outputs": [],
   "source": []
  },
  {
   "cell_type": "code",
   "execution_count": null,
   "id": "b95199cb-8370-4f8f-b007-3f368ed8f46d",
   "metadata": {},
   "outputs": [],
   "source": []
  }
 ],
 "metadata": {
  "kernelspec": {
   "display_name": "Python 3 (ipykernel)",
   "language": "python",
   "name": "python3"
  },
  "language_info": {
   "codemirror_mode": {
    "name": "ipython",
    "version": 3
   },
   "file_extension": ".py",
   "mimetype": "text/x-python",
   "name": "python",
   "nbconvert_exporter": "python",
   "pygments_lexer": "ipython3",
   "version": "3.10.8"
  }
 },
 "nbformat": 4,
 "nbformat_minor": 5
}
